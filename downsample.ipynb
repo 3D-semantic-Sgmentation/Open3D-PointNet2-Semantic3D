{
 "cells": [
  {
   "cell_type": "code",
   "execution_count": null,
   "metadata": {},
   "outputs": [],
   "source": [
    "import open3d\n",
    "import os\n",
    "import numpy as np\n",
    "from utils.point_cloud_util import load_labels, write_labels"
   ]
  },
  {
   "cell_type": "code",
   "execution_count": null,
   "metadata": {},
   "outputs": [],
   "source": [
    "voxel_size = 0.05\n",
    "raw_data_dir = \"/home/ylao/data/semantic3d\"\n",
    "sparse_data_dir = \"/home/ylao/repo/Open3D-PointNet-Semantic/dataset/down_sampled\"\n",
    "\n",
    "train_set = [\n",
    "    \"sg27_station4_intensity_rgb\",\n",
    "    \"sg27_station5_intensity_rgb\",\n",
    "    \"sg27_station9_intensity_rgb\",\n",
    "    \"sg28_station4_intensity_rgb\",\n",
    "    \"untermaederbrunnen_station1_xyz_intensity_rgb\",\n",
    "    \"untermaederbrunnen_station3_xyz_intensity_rgb\",\n",
    "]\n",
    "valid_set = [\n",
    "    \"bildstein_station1_xyz_intensity_rgb\",\n",
    "    \"bildstein_station3_xyz_intensity_rgb\",\n",
    "    \"bildstein_station5_xyz_intensity_rgb\",\n",
    "    \"domfountain_station1_xyz_intensity_rgb\",\n",
    "    \"domfountain_station2_xyz_intensity_rgb\",\n",
    "    \"domfountain_station3_xyz_intensity_rgb\",\n",
    "    \"neugasse_station1_xyz_intensity_rgb\",\n",
    "    \"sg27_station1_intensity_rgb\",\n",
    "    \"sg27_station2_intensity_rgb\",\n",
    "]\n",
    "test_set = [\n",
    "    \"birdfountain_station1_xyz_intensity_rgb\",\n",
    "    \"castleblatten_station1_intensity_rgb\",\n",
    "    \"castleblatten_station5_xyz_intensity_rgb\",\n",
    "    \"marketplacefeldkirch_station1_intensity_rgb\",\n",
    "    \"marketplacefeldkirch_station4_intensity_rgb\",\n",
    "    \"marketplacefeldkirch_station7_intensity_rgb\",\n",
    "    \"sg27_station10_intensity_rgb\",\n",
    "    \"sg27_station3_intensity_rgb\",\n",
    "    \"sg27_station6_intensity_rgb\",\n",
    "    \"sg27_station8_intensity_rgb\",\n",
    "    \"sg28_station2_intensity_rgb\",\n",
    "    \"sg28_station5_xyz_intensity_rgb\",\n",
    "    \"stgallencathedral_station1_intensity_rgb\",\n",
    "    \"stgallencathedral_station3_intensity_rgb\",\n",
    "    \"stgallencathedral_station6_intensity_rgb\",\n",
    "]\n",
    "all_set = train_set + valid_set + test_set"
   ]
  },
  {
   "cell_type": "code",
   "execution_count": null,
   "metadata": {},
   "outputs": [],
   "source": [
    "for file_prefix in all_set:\n",
    "    print(\"Processing\", file_prefix)\n",
    "          \n",
    "    # Paths\n",
    "    dense_pcd_path = os.path.join(raw_data_dir, file_prefix + '.pcd')\n",
    "    dense_label_path = os.path.join(raw_data_dir, file_prefix + '.labels')\n",
    "    sparse_pcd_path = os.path.join(sparse_data_dir, file_prefix + '.pcd')\n",
    "    sparse_label_path = os.path.join(sparse_data_dir, file_prefix + '.labels')\n",
    "\n",
    "    # Inputs\n",
    "    pcd = open3d.read_point_cloud(dense_pcd_path)\n",
    "    dense_labels = np.array(load_labels(dense_label_path))\n",
    "    min_bound = pcd.get_min_bound() - voxel_size * 0.5\n",
    "    max_bound = pcd.get_max_bound() + voxel_size * 0.5\n",
    "\n",
    "    # Downsample\n",
    "    sparse_pcd, cubics_ids = open3d.voxel_down_sample_and_trace(pcd, voxel_size, min_bound, max_bound, False)\n",
    "    print(\"Number of points before %d\" % np.asarray(pcd.points).shape[0])\n",
    "    print(\"Number of points after %d\" % np.asarray(sparse_pcd.points).shape[0])\n",
    "\n",
    "    sparse_labels = []\n",
    "    for cubic_ids in cubics_ids:\n",
    "        cubic_ids = cubic_ids[cubic_ids != -1]\n",
    "        cubic_labels = dense_labels[cubic_ids]\n",
    "        sparse_labels.append(np.bincount(cubic_labels).argmax())\n",
    "    sparse_labels = np.array(sparse_labels)\n",
    "\n",
    "    # Output\n",
    "    open3d.write_point_cloud(sparse_pcd_path, sparse_pcd)\n",
    "    write_labels(sparse_label_path, sparse_labels)"
   ]
  }
 ],
 "metadata": {
  "kernelspec": {
   "display_name": "Python 3",
   "language": "python",
   "name": "python3"
  },
  "language_info": {
   "codemirror_mode": {
    "name": "ipython",
    "version": 3
   },
   "file_extension": ".py",
   "mimetype": "text/x-python",
   "name": "python",
   "nbconvert_exporter": "python",
   "pygments_lexer": "ipython3",
   "version": "3.6.6"
  }
 },
 "nbformat": 4,
 "nbformat_minor": 2
}
