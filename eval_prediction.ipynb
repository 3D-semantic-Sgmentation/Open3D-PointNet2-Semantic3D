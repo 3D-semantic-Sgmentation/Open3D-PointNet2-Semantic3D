{
 "cells": [
  {
   "cell_type": "code",
   "execution_count": null,
   "metadata": {},
   "outputs": [],
   "source": [
    "import os\n",
    "import numpy as np\n",
    "import open3d\n",
    "from utils.metric import ConfusionMatrix\n",
    "from utils.point_cloud_util import load_labels, colorize_point_cloud"
   ]
  },
  {
   "cell_type": "code",
   "execution_count": null,
   "metadata": {},
   "outputs": [],
   "source": [
    "gt_dir = \"/home/ylao/data/semantic3d\"\n",
    "pd_dir = \"/home/ylao/repo/Open3D-PointNet-Semantic/results/dense/\"\n",
    "\n",
    "file_prefix = \"untermaederbrunnen_station1_xyz_intensity_rgb\"\n",
    "gt_labels_path = os.path.join(gt_dir, file_prefix + \".labels\")\n",
    "pd_labels_path = os.path.join(pd_dir, file_prefix + \".labels\")\n",
    "points_path = os.path.join(gt_dir, file_prefix + \".pcd\")"
   ]
  },
  {
   "cell_type": "code",
   "execution_count": null,
   "metadata": {},
   "outputs": [],
   "source": [
    "gt_labels = load_labels(gt_labels_path)\n",
    "pd_labels = load_labels(pd_labels_path)"
   ]
  },
  {
   "cell_type": "code",
   "execution_count": null,
   "metadata": {},
   "outputs": [],
   "source": [
    "cm = ConfusionMatrix(9)\n",
    "cm.increment_from_list(gt_labels, pd_labels)\n",
    "cm.print_metrics()"
   ]
  },
  {
   "cell_type": "code",
   "execution_count": null,
   "metadata": {},
   "outputs": [],
   "source": [
    "gt_point_cloud = open3d.read_point_cloud(points_path)\n",
    "colorize_point_cloud(gt_point_cloud, gt_labels)\n",
    "open3d.draw_geometries([gt_point_cloud])"
   ]
  },
  {
   "cell_type": "code",
   "execution_count": null,
   "metadata": {},
   "outputs": [],
   "source": [
    "pd_point_cloud = open3d.PointCloud(gt_point_cloud)\n",
    "colorize_point_cloud(pd_point_cloud, pd_labels)\n",
    "open3d.draw_geometries([pd_point_cloud])"
   ]
  }
 ],
 "metadata": {
  "kernelspec": {
   "display_name": "Python 3",
   "language": "python",
   "name": "python3"
  },
  "language_info": {
   "codemirror_mode": {
    "name": "ipython",
    "version": 3
   },
   "file_extension": ".py",
   "mimetype": "text/x-python",
   "name": "python",
   "nbconvert_exporter": "python",
   "pygments_lexer": "ipython3",
   "version": "3.6.6"
  }
 },
 "nbformat": 4,
 "nbformat_minor": 2
}
