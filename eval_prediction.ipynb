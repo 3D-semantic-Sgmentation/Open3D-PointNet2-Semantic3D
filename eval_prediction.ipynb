{
 "cells": [
  {
   "cell_type": "code",
   "execution_count": 1,
   "metadata": {},
   "outputs": [],
   "source": [
    "import os\n",
    "import numpy as np\n",
    "import open3d\n",
    "from utils.metric import ConfusionMatrix\n",
    "from utils.point_cloud_util import load_labels, colorize_point_cloud"
   ]
  },
  {
   "cell_type": "code",
   "execution_count": 2,
   "metadata": {},
   "outputs": [],
   "source": [
    "gt_dir = \"/home/ylao/data/semantic3d\"\n",
    "pd_dir = \"/home/ylao/repo/Open3D-PointNet-Semantic/results/dense/\""
   ]
  },
  {
   "cell_type": "markdown",
   "metadata": {},
   "source": [
    "## Evaulate the full validation set"
   ]
  },
  {
   "cell_type": "code",
   "execution_count": 3,
   "metadata": {},
   "outputs": [
    {
     "name": "stdout",
     "output_type": "stream",
     "text": [
      "Processing untermaederbrunnen_station1_xyz_intensity_rgb\n",
      "Confusion matrix:\n",
      "                  0       1       2       3       4       5       6       7       8 \n",
      "          0   78233      24       2       5     972     275       0       2       6 \n",
      "          1  400023 12733719    6741     703   33371  475765    6556    2061    4134 \n",
      "          2    1451   20646    2908     573    4694     757    1538     113     276 \n",
      "          3   13314     425     289  207296   29469   23512     992     903     117 \n",
      "          4   37031    7500   10497  192306  871600   83080  108595     520   14923 \n",
      "          5  463225  393959     871   19597    2993 7827466   22105   14932   10793 \n",
      "          6  231624  101749    1001   13033  166618 2546587  331880   99304    7941 \n",
      "          7    3807   12804       2     179     312     144     232   68938      64 \n",
      "          8   13850   16961       0       0     787   27728    1442   23524  173060 \n",
      "IoU per class:\n",
      "[Warn] Contains prediction of label 0: [ 78233. 400023.   1451.  13314.  37031. 463225. 231624.   3807.  13850.]\n",
      "[0.9215916892510104,\n",
      " 0.05712489686873846,\n",
      " 0.4235769134889271,\n",
      " 0.5706933636271374,\n",
      " 0.6836042304259744,\n",
      " 0.09733770181779361,\n",
      " 0.3077149692901014,\n",
      " 0.6142324755989352]\n",
      "mIoU (ignoring label 0):\n",
      "[Warn] Contains prediction of label 0: [ 78233. 400023.   1451.  13314.  37031. 463225. 231624.   3807.  13850.]\n",
      "0.45948453004607726\n",
      "Overall accuracy\n",
      "0.8310470518637886\n"
     ]
    }
   ],
   "source": [
    "file_prefixes = [\n",
    "#     \"sg27_station4_intensity_rgb\",\n",
    "#     \"sg27_station5_intensity_rgb\",\n",
    "#     \"sg27_station9_intensity_rgb\",\n",
    "#     \"sg28_station4_intensity_rgb\",\n",
    "    \"untermaederbrunnen_station1_xyz_intensity_rgb\",\n",
    "#     \"untermaederbrunnen_station3_xyz_intensity_rgb\"\n",
    "]\n",
    "\n",
    "cm = ConfusionMatrix(9)\n",
    "for file_prefix in file_prefixes:\n",
    "    print(\"Processing\", file_prefix)\n",
    "    gt_labels_path = os.path.join(gt_dir, file_prefix + \".labels\")\n",
    "    pd_labels_path = os.path.join(pd_dir, file_prefix + \".labels\")\n",
    "    gt_labels = load_labels(gt_labels_path)\n",
    "    pd_labels = load_labels(pd_labels_path)    \n",
    "    cm.increment_from_list(gt_labels, pd_labels)\n",
    "cm.print_metrics()"
   ]
  },
  {
   "cell_type": "markdown",
   "metadata": {},
   "source": [
    "## Visulizing one point cloud"
   ]
  },
  {
   "cell_type": "code",
   "execution_count": 4,
   "metadata": {},
   "outputs": [
    {
     "name": "stdout",
     "output_type": "stream",
     "text": [
      "Confusion matrix:\n",
      "                  0       1       2       3       4       5       6       7       8 \n",
      "          0  105938       7     452     141      38      38     428       0       0 \n",
      "          1 5539870 111833178 1177686   57395   20504  396048 1063275   56697      83 \n",
      "          2  854716 1385875 14404194  125558  745892  320655  363072      33       8 \n",
      "          3 3383929    2430  167256 65580057  101429  248001  623411     974    5171 \n",
      "          4  270777  288106 1019943 1089482 1823589   62173 1077662    2524    4276 \n",
      "          5 3296998   54408   17069  132783  373413 41980655  435846   46550    1098 \n",
      "          6 1965315 8412846  345715  387752  187442  585431 7270342  156272    5684 \n",
      "          7   32941  101032   16161    3363     163   15897   37821  334587       0 \n",
      "          8   46659   19642   12148       0    8311   92051   93895       0  321515 \n",
      "IoU per class:\n",
      "[Warn] Contains prediction of label 0: [ 105938. 5539870.  854716. 3383929.  270777. 3296998. 1965315.   32941.\n",
      "   46659.]\n",
      "[0.8956025466807449,\n",
      " 0.7165814688777049,\n",
      " 0.9570229502309681,\n",
      " 0.26798139402011106,\n",
      " 0.9378620670827659,\n",
      " 0.345442412992281,\n",
      " 0.4333613099262506,\n",
      " 0.5701813499987586]\n",
      "mIoU (ignoring label 0):\n",
      "[Warn] Contains prediction of label 0: [ 105938. 5539870.  854716. 3383929.  270777. 3296998. 1965315.   32941.\n",
      "   46659.]\n",
      "0.6405044374761981\n",
      "Overall accuracy\n",
      "0.9173307007716097\n"
     ]
    }
   ],
   "source": [
    "file_prefix = \"sg27_station4_intensity_rgb\"\n",
    "gt_labels_path = os.path.join(gt_dir, file_prefix + \".labels\")\n",
    "pd_labels_path = os.path.join(pd_dir, file_prefix + \".labels\")\n",
    "points_path = os.path.join(gt_dir, file_prefix + \".pcd\")\n",
    "\n",
    "gt_labels = load_labels(gt_labels_path)\n",
    "pd_labels = load_labels(pd_labels_path)\n",
    "\n",
    "cm = ConfusionMatrix(9)\n",
    "cm.increment_from_list(gt_labels, pd_labels)\n",
    "cm.print_metrics()"
   ]
  },
  {
   "cell_type": "code",
   "execution_count": null,
   "metadata": {},
   "outputs": [],
   "source": [
    "gt_point_cloud = open3d.read_point_cloud(points_path)\n",
    "colorize_point_cloud(gt_point_cloud, gt_labels)\n",
    "open3d.draw_geometries([gt_point_cloud])"
   ]
  },
  {
   "cell_type": "code",
   "execution_count": null,
   "metadata": {},
   "outputs": [],
   "source": [
    "pd_point_cloud = open3d.PointCloud(gt_point_cloud)\n",
    "colorize_point_cloud(pd_point_cloud, pd_labels)\n",
    "open3d.draw_geometries([pd_point_cloud])"
   ]
  }
 ],
 "metadata": {
  "kernelspec": {
   "display_name": "Python 3",
   "language": "python",
   "name": "python3"
  },
  "language_info": {
   "codemirror_mode": {
    "name": "ipython",
    "version": 3
   },
   "file_extension": ".py",
   "mimetype": "text/x-python",
   "name": "python",
   "nbconvert_exporter": "python",
   "pygments_lexer": "ipython3",
   "version": "3.6.6"
  }
 },
 "nbformat": 4,
 "nbformat_minor": 2
}
