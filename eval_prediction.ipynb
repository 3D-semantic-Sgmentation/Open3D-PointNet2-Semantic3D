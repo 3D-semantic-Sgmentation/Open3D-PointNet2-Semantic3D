{
 "cells": [
  {
   "cell_type": "code",
   "execution_count": 1,
   "metadata": {},
   "outputs": [],
   "source": [
    "import os\n",
    "import numpy as np\n",
    "import open3d\n",
    "from utils.metric import ConfusionMatrix\n",
    "from utils.point_cloud_util import load_labels, colorize_point_cloud"
   ]
  },
  {
   "cell_type": "code",
   "execution_count": 2,
   "metadata": {},
   "outputs": [],
   "source": [
    "gt_dir = \"/home/ylao/data/semantic3d\"\n",
    "pd_dir = \"/home/ylao/repo/Open3D-PointNet-Semantic/results/dense/\""
   ]
  },
  {
   "cell_type": "markdown",
   "metadata": {},
   "source": [
    "## Evaulate the full validation set"
   ]
  },
  {
   "cell_type": "code",
   "execution_count": 3,
   "metadata": {},
   "outputs": [
    {
     "name": "stdout",
     "output_type": "stream",
     "text": [
      "Processing sg27_station4_intensity_rgb\n",
      "Processing sg27_station5_intensity_rgb\n",
      "Processing sg27_station9_intensity_rgb\n",
      "Processing sg28_station4_intensity_rgb\n",
      "Processing untermaederbrunnen_station1_xyz_intensity_rgb\n",
      "Processing untermaederbrunnen_station3_xyz_intensity_rgb\n",
      "Confusion matrix:\n",
      "                  0       1       2       3       4       5       6       7       8 \n",
      "          0  495085    1278    1138     430    1751    2415    2266      13      57 \n",
      "          1 14688505 499853852 1424380   69629  133094 4642140 1440000  101662  217503 \n",
      "          2 4633497 53136682 63102603  155514  781999  342622  583525    1025    3658 \n",
      "          3 4885899    6180  200999 91055662  372718  312404 1013208    5738    6746 \n",
      "          4 5842146 1041821 3440385 22016860 6395483 50497774 7355221  323567  158837 \n",
      "          5 9969119 2000776   34492  307341  697438 124783086 1151075  108788  137887 \n",
      "          6 3774938 11176530  861974  619391  635722 10724816 14632771 1581235  342359 \n",
      "          7  156577  234451   47293   13167    2066  314218  219827 1496877   39241 \n",
      "          8  636100  969530   12449   14746   58887  151604  248975   51796 7978005 \n",
      "IoU per class:\n",
      "[Warn] Contains prediction of label 0: [  495085. 14688505.  4633497.  4885899.  5842146.  9969119.  3774938.\n",
      "   156577.   636100.]\n",
      "[0.8671270479918032,\n",
      " 0.5083606408141168,\n",
      " 0.7838118662736036,\n",
      " 0.06810089995863355,\n",
      " 0.6359784757546797,\n",
      " 0.2782602969283313,\n",
      " 0.32963954026370246,\n",
      " 0.7676899350600925]\n",
      "mIoU (ignoring label 0):\n",
      "[Warn] Contains prediction of label 0: [  495085. 14688505.  4633497.  4885899.  5842146.  9969119.  3774938.\n",
      "   156577.   636100.]\n",
      "0.5298710878806203\n",
      "Overall accuracy\n",
      "0.815954648976134\n"
     ]
    }
   ],
   "source": [
    "file_prefixes = [\n",
    "    \"sg27_station4_intensity_rgb\",\n",
    "    \"sg27_station5_intensity_rgb\",\n",
    "    \"sg27_station9_intensity_rgb\",\n",
    "    \"sg28_station4_intensity_rgb\",\n",
    "    \"untermaederbrunnen_station1_xyz_intensity_rgb\",\n",
    "    \"untermaederbrunnen_station3_xyz_intensity_rgb\"\n",
    "]\n",
    "\n",
    "cm = ConfusionMatrix(9)\n",
    "for file_prefix in file_prefixes:\n",
    "    print(\"Processing\", file_prefix)\n",
    "    gt_labels_path = os.path.join(gt_dir, file_prefix + \".labels\")\n",
    "    pd_labels_path = os.path.join(pd_dir, file_prefix + \".labels\")\n",
    "    gt_labels = load_labels(gt_labels_path)\n",
    "    pd_labels = load_labels(pd_labels_path)    \n",
    "    cm.increment_from_list(gt_labels, pd_labels)\n",
    "cm.print_metrics()"
   ]
  },
  {
   "cell_type": "markdown",
   "metadata": {},
   "source": [
    "## Visulizing one point cloud"
   ]
  },
  {
   "cell_type": "code",
   "execution_count": 4,
   "metadata": {},
   "outputs": [
    {
     "name": "stdout",
     "output_type": "stream",
     "text": [
      "Confusion matrix:\n",
      "                  0       1       2       3       4       5       6       7       8 \n",
      "          0  105938       7     452     141      38      38     428       0       0 \n",
      "          1 5539870 111833178 1177686   57395   20504  396048 1063275   56697      83 \n",
      "          2  854716 1385875 14404194  125558  745892  320655  363072      33       8 \n",
      "          3 3383929    2430  167256 65580057  101429  248001  623411     974    5171 \n",
      "          4  270777  288106 1019943 1089482 1823589   62173 1077662    2524    4276 \n",
      "          5 3296998   54408   17069  132783  373413 41980655  435846   46550    1098 \n",
      "          6 1965315 8412846  345715  387752  187442  585431 7270342  156272    5684 \n",
      "          7   32941  101032   16161    3363     163   15897   37821  334587       0 \n",
      "          8   46659   19642   12148       0    8311   92051   93895       0  321515 \n",
      "IoU per class:\n",
      "[Warn] Contains prediction of label 0: [ 105938. 5539870.  854716. 3383929.  270777. 3296998. 1965315.   32941.\n",
      "   46659.]\n",
      "[0.8956025466807449,\n",
      " 0.7165814688777049,\n",
      " 0.9570229502309681,\n",
      " 0.26798139402011106,\n",
      " 0.9378620670827659,\n",
      " 0.345442412992281,\n",
      " 0.4333613099262506,\n",
      " 0.5701813499987586]\n",
      "mIoU (ignoring label 0):\n",
      "[Warn] Contains prediction of label 0: [ 105938. 5539870.  854716. 3383929.  270777. 3296998. 1965315.   32941.\n",
      "   46659.]\n",
      "0.6405044374761981\n",
      "Overall accuracy\n",
      "0.9173307007716097\n"
     ]
    }
   ],
   "source": [
    "file_prefix = \"sg27_station4_intensity_rgb\"\n",
    "gt_labels_path = os.path.join(gt_dir, file_prefix + \".labels\")\n",
    "pd_labels_path = os.path.join(pd_dir, file_prefix + \".labels\")\n",
    "points_path = os.path.join(gt_dir, file_prefix + \".pcd\")\n",
    "\n",
    "gt_labels = load_labels(gt_labels_path)\n",
    "pd_labels = load_labels(pd_labels_path)\n",
    "\n",
    "cm = ConfusionMatrix(9)\n",
    "cm.increment_from_list(gt_labels, pd_labels)\n",
    "cm.print_metrics()"
   ]
  },
  {
   "cell_type": "code",
   "execution_count": null,
   "metadata": {},
   "outputs": [],
   "source": [
    "gt_point_cloud = open3d.read_point_cloud(points_path)\n",
    "colorize_point_cloud(gt_point_cloud, gt_labels)\n",
    "open3d.draw_geometries([gt_point_cloud])"
   ]
  },
  {
   "cell_type": "code",
   "execution_count": null,
   "metadata": {},
   "outputs": [],
   "source": [
    "pd_point_cloud = open3d.PointCloud(gt_point_cloud)\n",
    "colorize_point_cloud(pd_point_cloud, pd_labels)\n",
    "open3d.draw_geometries([pd_point_cloud])"
   ]
  }
 ],
 "metadata": {
  "kernelspec": {
   "display_name": "Python 3",
   "language": "python",
   "name": "python3"
  },
  "language_info": {
   "codemirror_mode": {
    "name": "ipython",
    "version": 3
   },
   "file_extension": ".py",
   "mimetype": "text/x-python",
   "name": "python",
   "nbconvert_exporter": "python",
   "pygments_lexer": "ipython3",
   "version": "3.6.6"
  }
 },
 "nbformat": 4,
 "nbformat_minor": 2
}
