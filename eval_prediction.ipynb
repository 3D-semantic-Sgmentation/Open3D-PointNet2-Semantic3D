{
 "cells": [
  {
   "cell_type": "code",
   "execution_count": null,
   "metadata": {},
   "outputs": [],
   "source": [
    "import os\n",
    "import numpy as np\n",
    "import open3d\n",
    "from utils.metric import ConfusionMatrix"
   ]
  },
  {
   "cell_type": "code",
   "execution_count": null,
   "metadata": {},
   "outputs": [],
   "source": [
    "def load_labels(label_path):\n",
    "    labels = []\n",
    "    with open(label_path, \"r\") as f:\n",
    "        for line in f:\n",
    "            labels.append(int(float(line.strip())))\n",
    "    return labels"
   ]
  },
  {
   "cell_type": "code",
   "execution_count": null,
   "metadata": {},
   "outputs": [],
   "source": [
    "gt_dir = \"/home/ylao/data/semantic3d\"\n",
    "pd_dir = \"/home/ylao/repo/Open3D-PointNet-Semantic/results/dense/\"\n",
    "\n",
    "file_prefix = \"untermaederbrunnen_station1_xyz_intensity_rgb\"\n",
    "gt_labels_path = os.path.join(gt_dir, file_prefix + \".labels\")\n",
    "pd_labels_path = os.path.join(pd_dir, file_prefix + \".labels\")\n",
    "\n",
    "gt_labels = load_labels(gt_labels_path)\n",
    "pd_labels = load_labels(pd_labels_path)"
   ]
  },
  {
   "cell_type": "code",
   "execution_count": null,
   "metadata": {},
   "outputs": [],
   "source": [
    "cm = ConfusionMatrix(9)\n",
    "cm.increment_from_list(gt_labels, pd_labels)\n",
    "cm.print_metrics()"
   ]
  },
  {
   "cell_type": "code",
   "execution_count": null,
   "metadata": {},
   "outputs": [],
   "source": [
    "points_path = os.path.join(gt_dir, file_prefix + \".pcd\")"
   ]
  },
  {
   "cell_type": "code",
   "execution_count": null,
   "metadata": {},
   "outputs": [],
   "source": [
    "gt_point_cloud = open3d.read_point_cloud(points_path)\n",
    "pd_point_cloud = open3d.PointCloud(gt_point_cloud)"
   ]
  },
  {
   "cell_type": "code",
   "execution_count": null,
   "metadata": {},
   "outputs": [],
   "source": [
    "def label_to_colors(labels):\n",
    "    map_label_to_color = {\n",
    "        0: [255, 255, 255], # white\n",
    "        1: [0, 0, 255],     # blue\n",
    "        2: [128, 0, 0],     # maroon\n",
    "        3: [255, 0, 255],   # fuchisia\n",
    "        4: [0, 128, 0],     # green\n",
    "        5: [255, 0, 0],     # red\n",
    "        6: [128, 0, 128],   # purple\n",
    "        7: [0, 0, 128],     # navy\n",
    "        8: [128, 128, 0],   # olive\n",
    "    }\n",
    "    return np.array([map_label_to_color[label] for label in labels]).astype(np.int32)"
   ]
  },
  {
   "cell_type": "code",
   "execution_count": null,
   "metadata": {},
   "outputs": [],
   "source": [
    "gt_point_cloud.colors = open3d.Vector3dVector(label_to_colors(gt_labels))\n",
    "pd_point_cloud.colors = open3d.Vector3dVector(label_to_colors(pd_labels))"
   ]
  },
  {
   "cell_type": "code",
   "execution_count": null,
   "metadata": {},
   "outputs": [],
   "source": [
    "open3d.draw_geometries([pd_point_cloud])"
   ]
  },
  {
   "cell_type": "code",
   "execution_count": null,
   "metadata": {},
   "outputs": [],
   "source": []
  }
 ],
 "metadata": {
  "kernelspec": {
   "display_name": "Python 3",
   "language": "python",
   "name": "python3"
  },
  "language_info": {
   "codemirror_mode": {
    "name": "ipython",
    "version": 3
   },
   "file_extension": ".py",
   "mimetype": "text/x-python",
   "name": "python",
   "nbconvert_exporter": "python",
   "pygments_lexer": "ipython3",
   "version": "3.6.6"
  }
 },
 "nbformat": 4,
 "nbformat_minor": 2
}
