{
 "cells": [
  {
   "cell_type": "code",
   "execution_count": 4,
   "metadata": {},
   "outputs": [],
   "source": [
    "import open3d\n",
    "import os\n",
    "import numpy as np\n",
    "from utils.point_cloud_util import load_labels, write_labels, colorize_point_cloud"
   ]
  },
  {
   "cell_type": "code",
   "execution_count": 1,
   "metadata": {},
   "outputs": [],
   "source": [
    "raw_data_dir = \"/home/ylao/data/semantic3d\"\n",
    "sparse_data_dir = \"/home/ylao/repo/Open3D-PointNet-Semantic/dataset/down_sampled\"\n",
    "\n",
    "train_set = [\n",
    "    \"sg27_station4_intensity_rgb\",\n",
    "    \"sg27_station5_intensity_rgb\",\n",
    "    \"sg27_station9_intensity_rgb\",\n",
    "    \"sg28_station4_intensity_rgb\",\n",
    "    \"untermaederbrunnen_station1_xyz_intensity_rgb\",\n",
    "    \"untermaederbrunnen_station3_xyz_intensity_rgb\",\n",
    "]\n",
    "valid_set = [\n",
    "    \"bildstein_station1_xyz_intensity_rgb\",\n",
    "    \"bildstein_station3_xyz_intensity_rgb\",\n",
    "    \"bildstein_station5_xyz_intensity_rgb\",\n",
    "    \"domfountain_station1_xyz_intensity_rgb\",\n",
    "    \"domfountain_station2_xyz_intensity_rgb\",\n",
    "    \"domfountain_station3_xyz_intensity_rgb\",\n",
    "    \"neugasse_station1_xyz_intensity_rgb\",\n",
    "    \"sg27_station1_intensity_rgb\",\n",
    "    \"sg27_station2_intensity_rgb\",\n",
    "]\n",
    "test_set = [\n",
    "    \"birdfountain_station1_xyz_intensity_rgb\",\n",
    "    \"castleblatten_station1_intensity_rgb\",\n",
    "    \"castleblatten_station5_xyz_intensity_rgb\",\n",
    "    \"marketplacefeldkirch_station1_intensity_rgb\",\n",
    "    \"marketplacefeldkirch_station4_intensity_rgb\",\n",
    "    \"marketplacefeldkirch_station7_intensity_rgb\",\n",
    "    \"sg27_station10_intensity_rgb\",\n",
    "    \"sg27_station3_intensity_rgb\",\n",
    "    \"sg27_station6_intensity_rgb\",\n",
    "    \"sg27_station8_intensity_rgb\",\n",
    "    \"sg28_station2_intensity_rgb\",\n",
    "    \"sg28_station5_xyz_intensity_rgb\",\n",
    "    \"stgallencathedral_station1_intensity_rgb\",\n",
    "    \"stgallencathedral_station3_intensity_rgb\",\n",
    "    \"stgallencathedral_station6_intensity_rgb\",\n",
    "]\n",
    "all_set = train_set + valid_set + test_set"
   ]
  },
  {
   "cell_type": "code",
   "execution_count": 2,
   "metadata": {},
   "outputs": [],
   "source": [
    "file_prefix = all_set[0]\n",
    "dense_pcd_path = os.path.join(raw_data_dir, file_prefix + '.pcd')\n",
    "dense_label_path = os.path.join(raw_data_dir, file_prefix + '.labels')\n",
    "sparse_pcd_path = os.path.join(sparse_data_dir, file_prefix + '.pcd')\n",
    "sparse_label_path = os.path.join(sparse_data_dir, file_prefix + '.labels')"
   ]
  },
  {
   "cell_type": "code",
   "execution_count": 6,
   "metadata": {},
   "outputs": [],
   "source": [
    "dense_pcd = open3d.read_point_cloud(dense_pcd_path)\n",
    "dense_labels = np.array(load_labels(dense_label_path))\n",
    "colorize_point_cloud(dense_pcd, dense_labels)"
   ]
  },
  {
   "cell_type": "code",
   "execution_count": 7,
   "metadata": {},
   "outputs": [],
   "source": [
    "sparse_pcd = open3d.read_point_cloud(sparse_pcd_path)\n",
    "sparse_labels = np.array(load_labels(sparse_label_path))\n",
    "colorize_point_cloud(sparse_pcd, sparse_labels)"
   ]
  },
  {
   "cell_type": "code",
   "execution_count": 10,
   "metadata": {},
   "outputs": [],
   "source": [
    "open3d.draw_geometries([dense_pcd])"
   ]
  }
 ],
 "metadata": {
  "kernelspec": {
   "display_name": "Python 3",
   "language": "python",
   "name": "python3"
  },
  "language_info": {
   "codemirror_mode": {
    "name": "ipython",
    "version": 3
   },
   "file_extension": ".py",
   "mimetype": "text/x-python",
   "name": "python",
   "nbconvert_exporter": "python",
   "pygments_lexer": "ipython3",
   "version": "3.6.6"
  }
 },
 "nbformat": 4,
 "nbformat_minor": 2
}
