{
 "cells": [
  {
   "cell_type": "code",
   "execution_count": 1,
   "metadata": {},
   "outputs": [],
   "source": [
    "from matplotlib import pyplot"
   ]
  },
  {
   "cell_type": "code",
   "execution_count": 3,
   "metadata": {},
   "outputs": [
    {
     "name": "stdout",
     "output_type": "stream",
     "text": [
      "0 [255, 0, 0, 255]\n",
      "1 [255, 165, 0, 255]\n",
      "2 [179, 255, 0, 255]\n",
      "3 [7, 255, 0, 255]\n",
      "4 [0, 255, 157, 255]\n",
      "5 [0, 181, 255, 255]\n",
      "6 [0, 15, 255, 255]\n",
      "7 [155, 0, 255, 255]\n",
      "8 [255, 0, 189, 255]\n"
     ]
    }
   ],
   "source": [
    "def get_color(label):\n",
    "    num_classes = 9\n",
    "    colors = [pyplot.cm.hsv(i / float(num_classes)) for i in range(num_classes)]\n",
    "    color = colors[label]\n",
    "    color = [int(x * 255) for x in color]\n",
    "    return color\n",
    "\n",
    "for x in range(9):\n",
    "    print(x, get_color(x))"
   ]
  },
  {
   "cell_type": "code",
   "execution_count": null,
   "metadata": {},
   "outputs": [],
   "source": []
  }
 ],
 "metadata": {
  "kernelspec": {
   "display_name": "Python 3",
   "language": "python",
   "name": "python3"
  },
  "language_info": {
   "codemirror_mode": {
    "name": "ipython",
    "version": 3
   },
   "file_extension": ".py",
   "mimetype": "text/x-python",
   "name": "python",
   "nbconvert_exporter": "python",
   "pygments_lexer": "ipython3",
   "version": "3.6.6"
  }
 },
 "nbformat": 4,
 "nbformat_minor": 2
}
