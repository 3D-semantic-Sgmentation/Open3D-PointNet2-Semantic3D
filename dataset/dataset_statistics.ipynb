{
 "cells": [
  {
   "cell_type": "code",
   "execution_count": null,
   "metadata": {},
   "outputs": [],
   "source": [
    "import numpy as np\n",
    "import os\n",
    "import subprocess"
   ]
  },
  {
   "cell_type": "code",
   "execution_count": null,
   "metadata": {},
   "outputs": [],
   "source": [
    "train_set = [\n",
    "    \"sg27_station4_intensity_rgb\",\n",
    "    \"sg27_station5_intensity_rgb\",\n",
    "    \"sg27_station9_intensity_rgb\",\n",
    "    \"sg28_station4_intensity_rgb\",\n",
    "    \"untermaederbrunnen_station1_xyz_intensity_rgb\",\n",
    "    \"untermaederbrunnen_station3_xyz_intensity_rgb\",\n",
    "]\n",
    "valid_set = [\n",
    "    \"bildstein_station1_xyz_intensity_rgb\",\n",
    "    \"bildstein_station3_xyz_intensity_rgb\",\n",
    "    \"bildstein_station5_xyz_intensity_rgb\",\n",
    "    \"domfountain_station1_xyz_intensity_rgb\",\n",
    "    \"domfountain_station2_xyz_intensity_rgb\",\n",
    "    \"domfountain_station3_xyz_intensity_rgb\",\n",
    "    \"neugasse_station1_xyz_intensity_rgb\",  # rename station1_xyz_intensity_rgb!\n",
    "    \"sg27_station1_intensity_rgb\",\n",
    "    \"sg27_station2_intensity_rgb\",\n",
    "]\n",
    "test_set = [\n",
    "    \"birdfountain_station1_xyz_intensity_rgb\",\n",
    "    \"castleblatten_station1_intensity_rgb\",\n",
    "    \"castleblatten_station5_xyz_intensity_rgb\",\n",
    "    \"marketplacefeldkirch_station1_intensity_rgb\",\n",
    "    \"marketplacefeldkirch_station4_intensity_rgb\",\n",
    "    \"marketplacefeldkirch_station7_intensity_rgb\",\n",
    "    \"sg27_station10_intensity_rgb\",\n",
    "    \"sg27_station3_intensity_rgb\",\n",
    "    \"sg27_station6_intensity_rgb\",\n",
    "    \"sg27_station8_intensity_rgb\",\n",
    "    \"sg28_station2_intensity_rgb\",\n",
    "    \"sg28_station5_xyz_intensity_rgb\",\n",
    "    \"stgallencathedral_station1_intensity_rgb\",\n",
    "    \"stgallencathedral_station3_intensity_rgb\",\n",
    "    \"stgallencathedral_station6_intensity_rgb\",\n",
    "]"
   ]
  },
  {
   "cell_type": "code",
   "execution_count": null,
   "metadata": {},
   "outputs": [],
   "source": [
    "def wc(file_name):\n",
    "    try:\n",
    "        out = subprocess.Popen(['wc', '-l', file_name],\n",
    "                               stdout=subprocess.PIPE,\n",
    "                               stderr=subprocess.STDOUT\n",
    "                              ).communicate()[0]\n",
    "        num_lines = int(out.partition(b' ')[0])\n",
    "        return num_lines\n",
    "    except:\n",
    "        raise RuntimeError(\"wc -l {} failed\".format(file_name))"
   ]
  },
  {
   "cell_type": "code",
   "execution_count": null,
   "metadata": {},
   "outputs": [],
   "source": [
    "# Raw data\n",
    "raw_data_dir = \"/home/ylao/data/semantic3d\"\n",
    "\n",
    "print(\"train\")\n",
    "for file_name in train_set:\n",
    "    print(file_name, wc(os.path.join(raw_data_dir, file_name + '.txt')))\n",
    "    \n",
    "print(\"valid\")\n",
    "for file_name in valid_set:\n",
    "    print(file_name, wc(os.path.join(raw_data_dir, file_name + '.txt')))\n",
    "    \n",
    "print(\"test\")\n",
    "for file_name in test_set:\n",
    "    print(file_name, wc(os.path.join(raw_data_dir, file_name + '.txt')))"
   ]
  },
  {
   "cell_type": "code",
   "execution_count": null,
   "metadata": {},
   "outputs": [],
   "source": [
    "# Processed data\n",
    "processed_data_dir = \"/home/ylao/repo/Open3D-PointNet-Semantic/dataset/semantic_data\"\n",
    "\n",
    "print(\"train\")\n",
    "for file_name in train_set:\n",
    "    file_path = os.path.join(processed_data_dir, file_name + '_vertices.npz')\n",
    "    npz = np.load(file_path)\n",
    "    points = npz[npz.files[0]]\n",
    "    print(file_name, points.shape)\n",
    "\n",
    "print(\"valid\")\n",
    "for file_name in valid_set:\n",
    "    file_path = os.path.join(processed_data_dir, file_name + '_vertices.npz')\n",
    "    npz = np.load(file_path)\n",
    "    points = npz[npz.files[0]]\n",
    "    print(file_name, points.shape)"
   ]
  }
 ],
 "metadata": {
  "kernelspec": {
   "display_name": "Python 3",
   "language": "python",
   "name": "python3"
  },
  "language_info": {
   "codemirror_mode": {
    "name": "ipython",
    "version": 3
   },
   "file_extension": ".py",
   "mimetype": "text/x-python",
   "name": "python",
   "nbconvert_exporter": "python",
   "pygments_lexer": "ipython3",
   "version": "3.6.6"
  }
 },
 "nbformat": 4,
 "nbformat_minor": 2
}
