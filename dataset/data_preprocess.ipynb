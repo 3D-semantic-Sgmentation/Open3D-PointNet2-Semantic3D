{
 "cells": [
  {
   "cell_type": "code",
   "execution_count": null,
   "metadata": {},
   "outputs": [],
   "source": [
    "import numpy as np\n",
    "import os\n",
    "import subprocess\n",
    "import shutil\n",
    "import open3d"
   ]
  },
  {
   "cell_type": "code",
   "execution_count": null,
   "metadata": {},
   "outputs": [],
   "source": [
    "train_set = [\n",
    "    \"sg27_station4_intensity_rgb\",\n",
    "    \"sg27_station5_intensity_rgb\",\n",
    "    \"sg27_station9_intensity_rgb\",\n",
    "    \"sg28_station4_intensity_rgb\",\n",
    "    \"untermaederbrunnen_station1_xyz_intensity_rgb\",\n",
    "    \"untermaederbrunnen_station3_xyz_intensity_rgb\",\n",
    "]\n",
    "valid_set = [\n",
    "    \"bildstein_station1_xyz_intensity_rgb\",\n",
    "    \"bildstein_station3_xyz_intensity_rgb\",\n",
    "    \"bildstein_station5_xyz_intensity_rgb\",\n",
    "    \"domfountain_station1_xyz_intensity_rgb\",\n",
    "    \"domfountain_station2_xyz_intensity_rgb\",\n",
    "    \"domfountain_station3_xyz_intensity_rgb\",\n",
    "    \"neugasse_station1_xyz_intensity_rgb\",\n",
    "    \"sg27_station1_intensity_rgb\",\n",
    "    \"sg27_station2_intensity_rgb\",\n",
    "]\n",
    "test_set = [\n",
    "    \"birdfountain_station1_xyz_intensity_rgb\",\n",
    "    \"castleblatten_station1_intensity_rgb\",\n",
    "    \"castleblatten_station5_xyz_intensity_rgb\",\n",
    "    \"marketplacefeldkirch_station1_intensity_rgb\",\n",
    "    \"marketplacefeldkirch_station4_intensity_rgb\",\n",
    "    \"marketplacefeldkirch_station7_intensity_rgb\",\n",
    "    \"sg27_station10_intensity_rgb\",\n",
    "    \"sg27_station3_intensity_rgb\",\n",
    "    \"sg27_station6_intensity_rgb\",\n",
    "    \"sg27_station8_intensity_rgb\",\n",
    "    \"sg28_station2_intensity_rgb\",\n",
    "    \"sg28_station5_xyz_intensity_rgb\",\n",
    "    \"stgallencathedral_station1_intensity_rgb\",\n",
    "    \"stgallencathedral_station3_intensity_rgb\",\n",
    "    \"stgallencathedral_station6_intensity_rgb\",\n",
    "]\n",
    "all_set = train_set + valid_set + test_set"
   ]
  },
  {
   "cell_type": "code",
   "execution_count": null,
   "metadata": {},
   "outputs": [],
   "source": [
    "def wc(file_name):\n",
    "    out = subprocess.Popen(['wc', '-l', file_name],\n",
    "                           stdout=subprocess.PIPE,\n",
    "                           stderr=subprocess.STDOUT\n",
    "                          ).communicate()[0]\n",
    "    return int(out.partition(b' ')[0])\n",
    "\n",
    "def prepend_line(file_name, line):\n",
    "    with open(file_name, 'r+') as f:\n",
    "        content = f.read()\n",
    "        f.seek(0, 0)\n",
    "        f.write(line.rstrip('\\r\\n') + '\\n' + content)\n",
    "        \n",
    "def point_cloud_txt_to_pcd(raw_data_dir, file_prefix):\n",
    "    # File names\n",
    "    txt_file = os.path.join(raw_data_dir, file_prefix + '.txt')\n",
    "    pts_file = os.path.join(raw_data_dir, file_prefix + '.pts')\n",
    "    pcd_file = os.path.join(raw_data_dir, file_prefix + '.pcd')\n",
    "    \n",
    "    # Skip if already done\n",
    "    if os.path.isfile(pcd_file):\n",
    "        print(\"pcd {} exists, skipped\".format(pcd_file))\n",
    "        return\n",
    "\n",
    "    # .txt to .pts\n",
    "    print(\"[txt->pts]\")\n",
    "    print(\"txt: {}\".format(txt_file))\n",
    "    print(\"pts: {}\".format(pts_file))\n",
    "    shutil.copyfile(txt_file, pts_file)\n",
    "    prepend_line(pts_file, str(wc(txt_file)))\n",
    "\n",
    "    # .pts -> .pcd\n",
    "    print(\"[pts->pcd]\")\n",
    "    print(\"pts: {}\".format(pts_file))\n",
    "    print(\"pcd: {}\".format(pcd_file))\n",
    "    point_cloud = open3d.read_point_cloud(pts_file)\n",
    "    open3d.write_point_cloud(pcd_file, point_cloud)\n",
    "    os.remove(pts_file)\n",
    "\n",
    "    # Sanity check\n",
    "    point_cloud_loaded = open3d.read_point_cloud(pcd_file)\n",
    "    np.testing.assert_allclose(np.asarray(point_cloud.points),\n",
    "                               np.asarray(point_cloud_loaded.points))"
   ]
  },
  {
   "cell_type": "code",
   "execution_count": null,
   "metadata": {},
   "outputs": [],
   "source": [
    "raw_data_dir = \"/home/ylao/data/semantic3d\"\n",
    "\n",
    "for file_prefix in all_set:\n",
    "    point_cloud_txt_to_pcd(raw_data_dir, file_prefix)"
   ]
  }
 ],
 "metadata": {
  "kernelspec": {
   "display_name": "Python 3",
   "language": "python",
   "name": "python3"
  },
  "language_info": {
   "codemirror_mode": {
    "name": "ipython",
    "version": 3
   },
   "file_extension": ".py",
   "mimetype": "text/x-python",
   "name": "python",
   "nbconvert_exporter": "python",
   "pygments_lexer": "ipython3",
   "version": "3.6.6"
  }
 },
 "nbformat": 4,
 "nbformat_minor": 2
}
