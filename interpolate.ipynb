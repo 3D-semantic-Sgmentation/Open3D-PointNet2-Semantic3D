{
 "cells": [
  {
   "cell_type": "markdown",
   "metadata": {},
   "source": [
    "## Todo\n",
    "1. Voxel-based interpolation, reproducing C++ results\n",
    "2. Replace 0-prediction with knn\n",
    "3. Experiment with single knn-hybrid approach"
   ]
  },
  {
   "cell_type": "code",
   "execution_count": 1,
   "metadata": {},
   "outputs": [],
   "source": [
    "import os\n",
    "import numpy as np\n",
    "import open3d\n",
    "import time\n",
    "from utils.metric import ConfusionMatrix\n",
    "from utils.point_cloud_util import load_labels, colorize_point_cloud\n",
    "import multiprocessing"
   ]
  },
  {
   "cell_type": "code",
   "execution_count": 17,
   "metadata": {},
   "outputs": [],
   "source": [
    "class LabelCounter:\n",
    "    \"\"\"\n",
    "    A simple but non-optimized implementation\n",
    "    \"\"\"\n",
    "    def __init__(self):\n",
    "        self.labels = []\n",
    "        \n",
    "    def increment(self, label):\n",
    "        self.labels.append(label)\n",
    "        \n",
    "    def get_label(self):\n",
    "        return np.bincount(self.labels).argmax()\n",
    "    \n",
    "def get_voxel(point, voxel_size=0.1):\n",
    "    \"\"\"\n",
    "    Returns a voxel tuple\n",
    "    point: [x, y, z]\n",
    "    \"\"\"\n",
    "    return tuple([np.floor(float(val) / voxel_size) + 0.5 for val in point])"
   ]
  },
  {
   "cell_type": "code",
   "execution_count": 3,
   "metadata": {},
   "outputs": [],
   "source": [
    "sparse_dir = \"/home/ylao/repo/Open3D-PointNet-Semantic/results/sparse\"\n",
    "dense_dir = \"/home/ylao/repo/Open3D-PointNet-Semantic/results/dense\"\n",
    "gt_dir = \"/home/ylao/data/semantic3d\""
   ]
  },
  {
   "cell_type": "code",
   "execution_count": 4,
   "metadata": {},
   "outputs": [],
   "source": [
    "file_prefix = \"untermaederbrunnen_station1_xyz_intensity_rgb\"\n",
    "\n",
    "# Sparse labels\n",
    "sparse_labels = np.array(load_labels(os.path.join(sparse_dir, file_prefix + \".labels\")), dtype=np.int32)\n",
    "\n",
    "# Sparse points\n",
    "sparse_pcd = open3d.read_point_cloud(os.path.join(sparse_dir, file_prefix + \".pcd\"))\n",
    "sparse_points = np.asarray(sparse_pcd.points)\n",
    "\n",
    "# Dense points\n",
    "dense_pcd = open3d.read_point_cloud(os.path.join(gt_dir, file_prefix + \".pcd\"))\n",
    "dense_points = np.asarray(dense_pcd.points)\n",
    "\n",
    "# Ground-trugh dense labels\n",
    "gt_labels = load_labels(os.path.join(gt_dir, file_prefix + \".labels\"))"
   ]
  },
  {
   "cell_type": "code",
   "execution_count": null,
   "metadata": {},
   "outputs": [],
   "source": [
    "map_voxel_to_label_counter = dict()\n",
    "for sparse_point, sparse_label in zip(sparse_points, sparse_labels):\n",
    "    voxel = get_voxel(sparse_point)\n",
    "    if voxel not in map_voxel_to_label_counter:\n",
    "        map_voxel_to_label_counter[voxel] = LabelCounter()\n",
    "    map_voxel_to_label_counter[voxel].increment(sparse_label)\n",
    "print(\"{} sparse points, {} registered voxels\".format(len(sparse_points), \n",
    "                                                      len(map_voxel_to_label_counter)))"
   ]
  },
  {
   "cell_type": "code",
   "execution_count": null,
   "metadata": {},
   "outputs": [],
   "source": []
  }
 ],
 "metadata": {
  "kernelspec": {
   "display_name": "Python 3",
   "language": "python",
   "name": "python3"
  },
  "language_info": {
   "codemirror_mode": {
    "name": "ipython",
    "version": 3
   },
   "file_extension": ".py",
   "mimetype": "text/x-python",
   "name": "python",
   "nbconvert_exporter": "python",
   "pygments_lexer": "ipython3",
   "version": "3.6.6"
  }
 },
 "nbformat": 4,
 "nbformat_minor": 2
}
