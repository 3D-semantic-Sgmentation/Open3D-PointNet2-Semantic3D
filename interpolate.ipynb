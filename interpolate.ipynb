{
 "cells": [
  {
   "cell_type": "markdown",
   "metadata": {},
   "source": [
    "## Todo\n",
    "- [x] Voxel-based interpolation, reproducing C++ results\n",
    "- [ ] Replace 0-prediction with knn\n",
    "- [ ] Experiment with single knn-hybrid approach"
   ]
  },
  {
   "cell_type": "code",
   "execution_count": 2,
   "metadata": {},
   "outputs": [],
   "source": [
    "import os\n",
    "import numpy as np\n",
    "import open3d\n",
    "import time\n",
    "from utils.metric import ConfusionMatrix\n",
    "from utils.point_cloud_util import load_labels, colorize_point_cloud\n",
    "import multiprocessing"
   ]
  },
  {
   "cell_type": "code",
   "execution_count": 7,
   "metadata": {},
   "outputs": [],
   "source": [
    "class LabelCounter:\n",
    "    \"\"\"\n",
    "    A simple but non-optimized implementation\n",
    "    \"\"\"\n",
    "    def __init__(self):\n",
    "        self.labels = []\n",
    "        self.majority_label = None\n",
    "        self.finalized = False\n",
    "        \n",
    "    def increment(self, label):\n",
    "        if self.finalized:\n",
    "            raise RuntimeError(\"Counter finalized\")\n",
    "        self.labels.append(label)\n",
    "        \n",
    "    def get_label(self):\n",
    "        if not self.finalized:\n",
    "            self.finalize()\n",
    "        return self.majority_label\n",
    "    \n",
    "    def finalize(self):\n",
    "        self.majority_label = np.bincount(self.labels).argmax()\n",
    "        self.finalized = True\n",
    "    \n",
    "def get_voxel(point, voxel_size=0.1):\n",
    "    \"\"\"\n",
    "    Returns a voxel tuple\n",
    "    point: [x, y, z]\n",
    "    \"\"\"\n",
    "    return tuple([np.floor(float(val) / voxel_size) + 0.5 for val in point])"
   ]
  },
  {
   "cell_type": "code",
   "execution_count": 8,
   "metadata": {},
   "outputs": [],
   "source": [
    "sparse_dir = \"/home/ylao/repo/Open3D-PointNet-Semantic/results/sparse\"\n",
    "dense_dir = \"/home/ylao/repo/Open3D-PointNet-Semantic/results/dense\"\n",
    "gt_dir = \"/home/ylao/data/semantic3d\""
   ]
  },
  {
   "cell_type": "code",
   "execution_count": 5,
   "metadata": {},
   "outputs": [],
   "source": [
    "file_prefix = \"untermaederbrunnen_station1_xyz_intensity_rgb\"\n",
    "\n",
    "# Sparse labels\n",
    "sparse_labels = np.array(load_labels(os.path.join(sparse_dir, file_prefix + \".labels\")), dtype=np.int32)\n",
    "\n",
    "# Sparse points\n",
    "sparse_pcd = open3d.read_point_cloud(os.path.join(sparse_dir, file_prefix + \".pcd\"))\n",
    "sparse_points = np.asarray(sparse_pcd.points)\n",
    "\n",
    "# Dense points\n",
    "dense_pcd = open3d.read_point_cloud(os.path.join(gt_dir, file_prefix + \".pcd\"))\n",
    "dense_points = np.asarray(dense_pcd.points)\n",
    "\n",
    "# Ground-trugh dense labels\n",
    "gt_labels = load_labels(os.path.join(gt_dir, file_prefix + \".labels\"))"
   ]
  },
  {
   "cell_type": "code",
   "execution_count": 9,
   "metadata": {},
   "outputs": [
    {
     "name": "stdout",
     "output_type": "stream",
     "text": [
      "3629056 sparse points, 430433 registered voxels\n"
     ]
    }
   ],
   "source": [
    "# Build voxel to label container map\n",
    "map_voxel_to_label_counter = dict()\n",
    "for sparse_point, sparse_label in zip(sparse_points, sparse_labels):\n",
    "    voxel = get_voxel(sparse_point)\n",
    "    if voxel not in map_voxel_to_label_counter:\n",
    "        map_voxel_to_label_counter[voxel] = LabelCounter()\n",
    "    map_voxel_to_label_counter[voxel].increment(sparse_label)\n",
    "print(\"{} sparse points, {} registered voxels\".format(len(sparse_points), \n",
    "                                                      len(map_voxel_to_label_counter)))"
   ]
  },
  {
   "cell_type": "code",
   "execution_count": 14,
   "metadata": {},
   "outputs": [
    {
     "name": "stdout",
     "output_type": "stream",
     "text": [
      "interpolate_label time:  24.29922604560852\n"
     ]
    }
   ],
   "source": [
    "def interpolate_label(dense_index):\n",
    "    global dense_points\n",
    "    global sparse_labels\n",
    "    global map_voxel_to_label_counter\n",
    "    \n",
    "    dense_point = dense_points[dense_index]\n",
    "    voxel = get_voxel(dense_point)\n",
    "    if voxel not in map_voxel_to_label_counter:\n",
    "        k, sparse_indexes, _ = sparse_pcd_tree.search_knn_vector_3d(dense_point, 10)\n",
    "        knn_sparse_labels = sparse_labels[sparse_indexes]\n",
    "        dense_label = np.bincount(knn_sparse_labels).argmax()\n",
    "    else:\n",
    "        dense_label = map_voxel_to_label_counter[voxel].get_label()\n",
    "    return dense_label\n",
    "\n",
    "# Build KNN Tree\n",
    "sparse_pcd_tree = open3d.KDTreeFlann(sparse_pcd)\n",
    "\n",
    "# Interpolate dense labels\n",
    "start = time.time()\n",
    "with multiprocessing.Pool() as pool:\n",
    "    dense_labels = pool.map(interpolate_label, list(range(len(dense_points))))\n",
    "print(\"interpolate_label time: \", time.time() - start)"
   ]
  },
  {
   "cell_type": "code",
   "execution_count": 15,
   "metadata": {},
   "outputs": [
    {
     "name": "stdout",
     "output_type": "stream",
     "text": [
      "Confusion matrix:\n",
      "                  0       1       2       3       4       5       6       7       8 \n",
      "          0       0   14478      75    1838     996    9111      70   52799     152 \n",
      "          1       0 13102395    7230     780   34419  504794    6910    2123    4422 \n",
      "          2       0   21281    3000     777    4975     931    1594     116     282 \n",
      "          3       0    3011     302  216169   30148   24614    1006     948     119 \n",
      "          4       0    7654   11044  198519  896597   87592  109258     542   14846 \n",
      "          5       0  406758     905   24464    3099 8270743   23037   15438   11497 \n",
      "          6       0  104080    1363   15313  175323 2743399  345658  106019    8582 \n",
      "          7       0   13810       2     369     297     211     241   71485      67 \n",
      "          8       0   18086       0       0     810   29209    1554   25181  182512 \n",
      "IoU per class:\n",
      "[0.9202572203633537,\n",
      " 0.05576000892160143,\n",
      " 0.41849502167309727,\n",
      " 0.5692234828645129,\n",
      " 0.68090503002011,\n",
      " 0.09487401247812102,\n",
      " 0.3018167693340483,\n",
      " 0.6141731753525795]\n",
      "mIoU (ignoring label 0):\n",
      "0.456938090125928\n",
      "Overall accuracy\n",
      "0.8276089140727746\n"
     ]
    }
   ],
   "source": [
    "cm = ConfusionMatrix(9)\n",
    "cm.increment_from_list(gt_labels, dense_labels)\n",
    "cm.print_metrics()"
   ]
  }
 ],
 "metadata": {
  "kernelspec": {
   "display_name": "Python 3",
   "language": "python",
   "name": "python3"
  },
  "language_info": {
   "codemirror_mode": {
    "name": "ipython",
    "version": 3
   },
   "file_extension": ".py",
   "mimetype": "text/x-python",
   "name": "python",
   "nbconvert_exporter": "python",
   "pygments_lexer": "ipython3",
   "version": "3.6.6"
  }
 },
 "nbformat": 4,
 "nbformat_minor": 2
}
