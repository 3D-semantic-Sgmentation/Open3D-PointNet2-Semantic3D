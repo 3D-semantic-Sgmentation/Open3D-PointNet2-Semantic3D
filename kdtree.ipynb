{
 "cells": [
  {
   "cell_type": "code",
   "execution_count": null,
   "metadata": {},
   "outputs": [],
   "source": [
    "import os\n",
    "import numpy as np\n",
    "import open3d\n",
    "import time\n",
    "from utils.metric import ConfusionMatrix\n",
    "from utils.point_cloud_util import load_labels, colorize_point_cloud\n",
    "import multiprocessing"
   ]
  },
  {
   "cell_type": "code",
   "execution_count": null,
   "metadata": {},
   "outputs": [],
   "source": [
    "sparse_dir = \"/home/ylao/repo/Open3D-PointNet-Semantic/results/sparse\"\n",
    "dense_dir = \"/home/ylao/repo/Open3D-PointNet-Semantic/results/dense\"\n",
    "gt_dir = \"/home/ylao/data/semantic3d\""
   ]
  },
  {
   "cell_type": "code",
   "execution_count": null,
   "metadata": {},
   "outputs": [],
   "source": [
    "file_prefix = \"untermaederbrunnen_station1_xyz_intensity_rgb\"\n",
    "\n",
    "# Sparse labels\n",
    "sparse_labels = np.array(load_labels(os.path.join(sparse_dir, file_prefix + \".labels\")), dtype=np.int32)\n",
    "\n",
    "# Sparse points\n",
    "sparse_pcd = open3d.read_point_cloud(os.path.join(sparse_dir, file_prefix + \".pcd\"))\n",
    "sparse_points = np.asarray(sparse_pcd.points)\n",
    "\n",
    "# Dense points\n",
    "dense_pcd = open3d.read_point_cloud(os.path.join(gt_dir, file_prefix + \".pcd\"))\n",
    "dense_points = np.asarray(dense_pcd.points)\n",
    "\n",
    "# Ground-trugh dense labels\n",
    "gt_labels = load_labels(os.path.join(gt_dir, file_prefix + \".labels\"))"
   ]
  },
  {
   "cell_type": "code",
   "execution_count": null,
   "metadata": {},
   "outputs": [],
   "source": [
    "# Build KNN tree\n",
    "sparse_pcd_tree = open3d.KDTreeFlann(sparse_pcd)"
   ]
  },
  {
   "cell_type": "code",
   "execution_count": null,
   "metadata": {},
   "outputs": [],
   "source": [
    "def match_knn_label(dense_index):\n",
    "    global dense_points\n",
    "    global sparse_labels\n",
    "    global sparse_pcd_tree\n",
    "    \n",
    "    dense_point = dense_points[dense_index]\n",
    "    k, sparse_indexes, _ = sparse_pcd_tree.search_knn_vector_3d(dense_point, 10)\n",
    "    knn_sparse_labels = sparse_labels[sparse_indexes]\n",
    "    dense_label = np.bincount(knn_sparse_labels).argmax()\n",
    "    return dense_label\n",
    "\n",
    "# Assign labels\n",
    "start = time.time()\n",
    "dense_indexes = list(range(len(dense_points)))\n",
    "with multiprocessing.Pool() as pool:\n",
    "    dense_labels = pool.map(match_knn_label, dense_indexes)\n",
    "print(\"knn match time: \", time.time() - start)\n",
    "\n",
    "# Eval\n",
    "cm = ConfusionMatrix(9)\n",
    "cm.increment_from_list(gt_labels, dense_labels)\n",
    "cm.print_metrics()"
   ]
  }
 ],
 "metadata": {
  "kernelspec": {
   "display_name": "Python 3",
   "language": "python",
   "name": "python3"
  },
  "language_info": {
   "codemirror_mode": {
    "name": "ipython",
    "version": 3
   },
   "file_extension": ".py",
   "mimetype": "text/x-python",
   "name": "python",
   "nbconvert_exporter": "python",
   "pygments_lexer": "ipython3",
   "version": "3.6.6"
  }
 },
 "nbformat": 4,
 "nbformat_minor": 2
}
