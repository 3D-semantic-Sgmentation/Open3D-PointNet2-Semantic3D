{
 "cells": [
  {
   "cell_type": "code",
   "execution_count": null,
   "metadata": {},
   "outputs": [],
   "source": [
    "import os\n",
    "import numpy as np\n",
    "import open3d\n",
    "import time\n",
    "from utils.metric import ConfusionMatrix\n",
    "import multiprocessing"
   ]
  },
  {
   "cell_type": "code",
   "execution_count": null,
   "metadata": {},
   "outputs": [],
   "source": [
    "def load_labels(label_path):\n",
    "    labels = []\n",
    "    with open(label_path, \"r\") as f:\n",
    "        for line in f:\n",
    "            labels.append(int(float(line.strip())))\n",
    "    return labels\n",
    "\n",
    "def load_points(points_path):\n",
    "    \"\"\"\n",
    "    v, x, y, z, r, g, b\n",
    "    \"\"\"\n",
    "    points = []\n",
    "    with open(points_path, 'r') as f:\n",
    "        for line in f:\n",
    "            line = line.strip()\n",
    "            tokens = line.split()\n",
    "            x = float(tokens[1])\n",
    "            y = float(tokens[1])\n",
    "            z = float(tokens[1])\n",
    "            points.append([x, y, z])\n",
    "    return np.array(points)"
   ]
  },
  {
   "cell_type": "code",
   "execution_count": null,
   "metadata": {},
   "outputs": [],
   "source": [
    "project_root_dir = \"/home/ylao/repo/Open3D-PointNet-Semantic/\"\n",
    "sparse_labels_dir = os.path.join(project_root_dir, \"visu/semantic_test/full_scenes_predictions/\")\n",
    "dense_labels_dir = os.path.join(project_root_dir, \"visu/semantic_test/full_scenes_predictions_all_points/\")\n",
    "dense_points_dir = \"/home/ylao/data/semantic3d\"\n",
    "gt_dir = \"/home/ylao/data/semantic3d\" # both points and labels"
   ]
  },
  {
   "cell_type": "code",
   "execution_count": null,
   "metadata": {},
   "outputs": [],
   "source": [
    "file_prefix = \"untermaederbrunnen_station1_xyz_intensity_rgb\"\n",
    "\n",
    "sparse_labels_path = os.path.join(sparse_labels_dir, file_prefix + \"_pred.txt\")\n",
    "sparse_labels = np.array(load_labels(sparse_labels_path))\n",
    "\n",
    "sparse_points_path = os.path.join(sparse_labels_dir, file_prefix + \"_aggregated.txt\")\n",
    "sparse_points = load_points(sparse_points_path)\n",
    "\n",
    "dense_points_path = os.path.join(dense_points_dir, file_prefix + \".pcd\")\n",
    "pcd_dense = open3d.read_point_cloud(dense_points_path)\n",
    "\n",
    "gt_labels_path = os.path.join(gt_dir, file_prefix + \".labels\")\n",
    "gt_labels = load_labels(gt_labels_path)"
   ]
  },
  {
   "cell_type": "code",
   "execution_count": null,
   "metadata": {},
   "outputs": [],
   "source": [
    "# Build KNN tree\n",
    "pcd_sparse = open3d.PointCloud()\n",
    "pcd_sparse.points = open3d.Vector3dVector(sparse_points)\n",
    "pcd_sparse_tree = open3d.KDTreeFlann(pcd_sparse)"
   ]
  },
  {
   "cell_type": "code",
   "execution_count": null,
   "metadata": {},
   "outputs": [],
   "source": [
    "def match_knn_label(dense_index):\n",
    "    global dense_points\n",
    "    global sparse_labels\n",
    "    global pcd_sparse_tree\n",
    "    \n",
    "    dense_point = dense_points[dense_index]\n",
    "    k, sparse_indexes, _ = pcd_sparse_tree.search_knn_vector_3d(dense_point, 10)\n",
    "    knn_sparse_labels = sparse_labels[sparse_indexes]\n",
    "    dense_label = np.bincount(knn_sparse_labels).argmax()\n",
    "    return dense_label\n",
    "\n",
    "# Assign labels\n",
    "start = time.time()\n",
    "dense_points = np.asarray(pcd_dense.points)\n",
    "dense_indexes = list(range(len(dense_points)))\n",
    "with multiprocessing.Pool() as pool:\n",
    "    dense_labels = pool.map(match_knn_label, dense_indexes)\n",
    "print(\"knn match time: \", time.time() - start)\n",
    "\n",
    "# Eval\n",
    "cm = ConfusionMatrix(9)\n",
    "cm.increment_from_list(gt_labels, dense_labels)\n",
    "cm.print_metrics()"
   ]
  },
  {
   "cell_type": "code",
   "execution_count": null,
   "metadata": {},
   "outputs": [],
   "source": [
    "a = np.array([[1, 2 , 3], [0, 5, 6], [7, 8, 9]])\n",
    "any(a[:, 0] == 0)"
   ]
  },
  {
   "cell_type": "code",
   "execution_count": null,
   "metadata": {},
   "outputs": [],
   "source": []
  }
 ],
 "metadata": {
  "kernelspec": {
   "display_name": "Python 3",
   "language": "python",
   "name": "python3"
  },
  "language_info": {
   "codemirror_mode": {
    "name": "ipython",
    "version": 3
   },
   "file_extension": ".py",
   "mimetype": "text/x-python",
   "name": "python",
   "nbconvert_exporter": "python",
   "pygments_lexer": "ipython3",
   "version": "3.6.6"
  }
 },
 "nbformat": 4,
 "nbformat_minor": 2
}
