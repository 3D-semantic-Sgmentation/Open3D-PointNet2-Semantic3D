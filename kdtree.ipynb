{
 "cells": [
  {
   "cell_type": "code",
   "execution_count": 2,
   "metadata": {},
   "outputs": [],
   "source": [
    "import os\n",
    "import numpy as np\n",
    "import open3d\n",
    "import time\n",
    "from utils.metric import ConfusionMatrix\n",
    "from utils.point_cloud_util import load_labels, colorize_point_cloud\n",
    "import multiprocessing"
   ]
  },
  {
   "cell_type": "code",
   "execution_count": 3,
   "metadata": {},
   "outputs": [],
   "source": [
    "sparse_dir = \"/home/ylao/repo/Open3D-PointNet-Semantic/results/sparse\"\n",
    "dense_dir = \"/home/ylao/repo/Open3D-PointNet-Semantic/results/dense\"\n",
    "gt_dir = \"/home/ylao/data/semantic3d\""
   ]
  },
  {
   "cell_type": "code",
   "execution_count": 4,
   "metadata": {},
   "outputs": [],
   "source": [
    "file_prefix = \"untermaederbrunnen_station1_xyz_intensity_rgb\"\n",
    "\n",
    "# Sparse labels\n",
    "sparse_labels = np.array(load_labels(os.path.join(sparse_dir, file_prefix + \".labels\")), dtype=np.int32)\n",
    "\n",
    "# Sparse points\n",
    "sparse_pcd = open3d.read_point_cloud(os.path.join(sparse_dir, file_prefix + \".pcd\"))\n",
    "sparse_points = np.asarray(sparse_pcd.points)\n",
    "\n",
    "# Dense points\n",
    "dense_pcd = open3d.read_point_cloud(os.path.join(gt_dir, file_prefix + \".pcd\"))\n",
    "dense_points = np.asarray(dense_pcd.points)\n",
    "\n",
    "# Ground-trugh dense labels\n",
    "gt_labels = load_labels(os.path.join(gt_dir, file_prefix + \".labels\"))"
   ]
  },
  {
   "cell_type": "code",
   "execution_count": 5,
   "metadata": {},
   "outputs": [],
   "source": [
    "# Build KNN tree\n",
    "sparse_pcd_tree = open3d.KDTreeFlann(sparse_pcd)"
   ]
  },
  {
   "cell_type": "code",
   "execution_count": 8,
   "metadata": {},
   "outputs": [
    {
     "name": "stdout",
     "output_type": "stream",
     "text": [
      "knn match time:  46.46926927566528\n",
      "Confusion matrix:\n",
      "                  0       1       2       3       4       5       6       7       8 \n",
      "          0       0   14479      74    1839     995    9113      70   52799     150 \n",
      "          1       0 13144262    7132     768   33640  464577    6930    1837    3927 \n",
      "          2       0   21123    3051     790    5037     965    1640     110     240 \n",
      "          3       0    3017     305  216831   30226   23990     973     893      82 \n",
      "          4       0    7612   10859  199210  898252   87390  106303     358   16068 \n",
      "          5       0  413004     907   22801    2726 8270006   22277   12880   11340 \n",
      "          6       0  131017    1330   15411  154632 2744521  337516  106714    8596 \n",
      "          7       0   13582       0     370     285     220     241   71716      68 \n",
      "          8       0   17930       0       0     826   28731    1447   22906  185512 \n",
      "IoU per class:\n",
      "[0.9210884548236281,\n",
      " 0.057039765185365215,\n",
      " 0.4204864767378948,\n",
      " 0.5782400683908578,\n",
      " 0.6831139234128247,\n",
      " 0.09273569135508036,\n",
      " 0.30888104057197,\n",
      " 0.6232073449725034]\n",
      "mIoU (ignoring label 0):\n",
      "0.46059909568126556\n",
      "Overall accuracy\n",
      "0.8289920642800841\n"
     ]
    }
   ],
   "source": [
    "def match_knn_label(dense_index):\n",
    "    global dense_points\n",
    "    global sparse_labels\n",
    "    global sparse_pcd_tree\n",
    "    \n",
    "    dense_point = dense_points[dense_index]\n",
    "    k, sparse_indexes, _ = sparse_pcd_tree.search_hybrid_vector_3d(dense_point, 0.1, 10)\n",
    "    assert k == len(sparse_indexes)\n",
    "    if k == 0:\n",
    "        k, sparse_indexes, _ = sparse_pcd_tree.search_knn_vector_3d(dense_point, 10)\n",
    "    knn_sparse_labels = sparse_labels[sparse_indexes]\n",
    "    dense_label = np.bincount(knn_sparse_labels).argmax()\n",
    "        \n",
    "    return dense_label\n",
    "\n",
    "# Assign labels\n",
    "start = time.time()\n",
    "dense_indexes = list(range(len(dense_points)))\n",
    "with multiprocessing.Pool() as pool:\n",
    "    dense_labels = pool.map(match_knn_label, dense_indexes)\n",
    "print(\"knn match time: \", time.time() - start)\n",
    "\n",
    "# Eval\n",
    "cm = ConfusionMatrix(9)\n",
    "cm.increment_from_list(gt_labels, dense_labels)\n",
    "cm.print_metrics()"
   ]
  }
 ],
 "metadata": {
  "kernelspec": {
   "display_name": "Python 3",
   "language": "python",
   "name": "python3"
  },
  "language_info": {
   "codemirror_mode": {
    "name": "ipython",
    "version": 3
   },
   "file_extension": ".py",
   "mimetype": "text/x-python",
   "name": "python",
   "nbconvert_exporter": "python",
   "pygments_lexer": "ipython3",
   "version": "3.6.6"
  }
 },
 "nbformat": 4,
 "nbformat_minor": 2
}
